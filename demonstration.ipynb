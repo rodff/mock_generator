{
 "metadata": {
  "language_info": {
   "codemirror_mode": {
    "name": "ipython",
    "version": 3
   },
   "file_extension": ".py",
   "mimetype": "text/x-python",
   "name": "python",
   "nbconvert_exporter": "python",
   "pygments_lexer": "ipython3",
   "version": "3.7.4"
  },
  "orig_nbformat": 2,
  "kernelspec": {
   "name": "python374jvsc74a57bd08ce08ccff3bddfcf55c2efe993355c0e21902f4795cfd7c8988451241cb5feac",
   "display_name": "Python 3.7.4 64-bit ('astroconda': conda)"
  }
 },
 "nbformat": 4,
 "nbformat_minor": 2,
 "cells": [
  {
   "source": [
    "## Demonstration of the pipeline"
   ],
   "cell_type": "markdown",
   "metadata": {}
  },
  {
   "cell_type": "code",
   "execution_count": 1,
   "metadata": {},
   "outputs": [],
   "source": [
    "import os\n",
    "import configparser"
   ]
  },
  {
   "source": [
    "#### The configuration file contains all the relevant information you should need to input, so lets look at it:"
   ],
   "cell_type": "markdown",
   "metadata": {}
  },
  {
   "cell_type": "code",
   "execution_count": 2,
   "metadata": {},
   "outputs": [],
   "source": [
    "cf_nm = 'conf.ini'\n",
    "# CONFIGURATION\n",
    "cfg = configparser.ConfigParser()\n",
    "cfg.read(cf_nm)\n",
    "D = dict(cfg['default'])\n",
    "D_o = dict(cfg['optional'])   # Optional configurations"
   ]
  },
  {
   "cell_type": "code",
   "execution_count": 3,
   "metadata": {},
   "outputs": [
    {
     "output_type": "stream",
     "name": "stdout",
     "text": [
      "Default keywords:\n\n"
     ]
    },
    {
     "output_type": "execute_result",
     "data": {
      "text/plain": [
       "{'size': '400',\n",
       " 'size_info': \"'Size of the cutout in pixels'\",\n",
       " 'outpath': 'point_061516_r',\n",
       " 'outpath_info': \"'Output directory to save mock galaxies'\",\n",
       " 'image': '/home/rodrigoff96/sync_out/siens/UDGs_Marco/point_061516_r.fits',\n",
       " 'image_info': \"'Image used as background for the mock galaxies'\",\n",
       " 'multi_ext': 'yes',\n",
       " 'multi_ext_info': \"'yes/no for if the image is a multiextension FITS file.'\",\n",
       " 'dec_min': '-7.7501961',\n",
       " 'dec_max': '-6.5041385',\n",
       " 'dec_info': \"'Minimum and maximum declination values (degrees)'\",\n",
       " 'ra_min': '151.62924',\n",
       " 'ra_max': '152.19335',\n",
       " 'ra_info': \"'Minimum and maximum right ascension values (degrees)'\"}"
      ]
     },
     "metadata": {},
     "execution_count": 3
    }
   ],
   "source": [
    "print('Default keywords:\\n')\n",
    "D"
   ]
  },
  {
   "cell_type": "code",
   "execution_count": 4,
   "metadata": {},
   "outputs": [
    {
     "output_type": "stream",
     "name": "stdout",
     "text": [
      "Optional keywords:\n\n"
     ]
    },
    {
     "output_type": "execute_result",
     "data": {
      "text/plain": [
       "{'wht_image': '/home/rodrigoff96/sync_out/siens/UDGs_Marco/osw_point_061516_r.fits',\n",
       " 'wht_image_info': \"'Weight of the image used as background for the mock galaxies'\",\n",
       " 'm_cdf': 'CDF_M_g_carlsten_2020.npy',\n",
       " 'm_cdf_info': \"'Cumulative distribution for absolute magnitude'\",\n",
       " 'm_bins': 'M_g_carlsten_2020.npy',\n",
       " 'm_bins_info': \"'Bins to'\"}"
      ]
     },
     "metadata": {},
     "execution_count": 4
    }
   ],
   "source": [
    "print('Optional keywords:\\n')\n",
    "D_o"
   ]
  },
  {
   "source": [
    "#### Below we interactively replicate the lines executed in all_wrap.py"
   ],
   "cell_type": "markdown",
   "metadata": {}
  },
  {
   "cell_type": "code",
   "execution_count": 8,
   "metadata": {},
   "outputs": [
    {
     "output_type": "stream",
     "name": "stdout",
     "text": [
      "#### \t gal0 \t ####\n",
      "Cutting stamp from pointing...\n",
      "\n",
      "#####################################################################\n",
      "Generating random parameters for mock galaxy...\n",
      "\n",
      "#####################################################################\n",
      "#### \t gal1 \t ####\n",
      "Cutting stamp from pointing...\n",
      "\n",
      "#####################################################################\n",
      "Generating random parameters for mock galaxy...\n",
      "\n",
      "#####################################################################\n"
     ]
    }
   ],
   "source": [
    "Ni = 0\n",
    "Nf = 1\n",
    "\n",
    "outPath = str(D['outpath'])    # Output directory to save mock galaxy directories\n",
    "if(os.path.exists(outPath)):\n",
    "    os.system('rm -r {0}'.format(outPath))\n",
    "    os.system('mkdir {0}'.format(outPath))\n",
    "else:\n",
    "    os.system('mkdir {0}'.format(outPath))\n",
    "\n",
    "# for each N mock\n",
    "for N in range(Ni,Nf+1):\n",
    "    drt = outPath+'/gal{0}'.format(N)\n",
    "    print('#### \\t gal{0} \\t ####'.format(N))\n",
    "    if(os.path.exists(drt)):\n",
    "        os.system('rm -r {0}'.format(drt))\n",
    "        os.system('mkdir {0}'.format(drt))\n",
    "    else:\n",
    "        os.system('mkdir {0}'.format(drt))\n",
    "\n",
    "    print('Cutting stamp from pointing...\\n')\n",
    "    os.system('python cut.py {0} {1}'.format(cf_nm,N))\n",
    "    print('#####################################################################')\n",
    "\n",
    "    print('Generating random parameters for mock galaxy...\\n')\n",
    "    os.system('python gen_pars.py {0} {1}'.format(cf_nm,N))\n",
    "    print('#####################################################################')\n",
    "\n",
    "    "
   ]
  },
  {
   "cell_type": "code",
   "execution_count": 6,
   "metadata": {},
   "outputs": [
    {
     "output_type": "execute_result",
     "data": {
      "text/plain": [
       "0"
      ]
     },
     "metadata": {},
     "execution_count": 6
    }
   ],
   "source": [
    "os.system('')"
   ]
  },
  {
   "cell_type": "code",
   "execution_count": null,
   "metadata": {},
   "outputs": [],
   "source": []
  }
 ]
}